{
 "cells": [
  {
   "cell_type": "markdown",
   "metadata": {},
   "source": [
    "# 0. Import Libraries"
   ]
  },
  {
   "cell_type": "code",
   "execution_count": 1,
   "metadata": {},
   "outputs": [],
   "source": [
    "import pandas as pd \n",
    "from pandas_datareader import data as web\n",
    "import numpy as np \n",
    "from datetime import datetime as dt\n",
    "import matplotlib.pyplot as plt \n",
    "import seaborn as sns"
   ]
  },
  {
   "cell_type": "markdown",
   "metadata": {},
   "source": [
    "# 1. Import Data"
   ]
  },
  {
   "cell_type": "code",
   "execution_count": 2,
   "metadata": {
    "scrolled": true
   },
   "outputs": [],
   "source": [
    "assets = ['BTC-USD','ETH-USD','BNB-USD','XRP-USD','ADA-USD'] #crypto tickers\n",
    "weights = np.array([0.2, 0.2, 0.2, 0.2, 0.2])"
   ]
  },
  {
   "cell_type": "code",
   "execution_count": 3,
   "metadata": {
    "scrolled": true
   },
   "outputs": [
    {
     "data": {
      "text/html": [
       "<div>\n",
       "<style scoped>\n",
       "    .dataframe tbody tr th:only-of-type {\n",
       "        vertical-align: middle;\n",
       "    }\n",
       "\n",
       "    .dataframe tbody tr th {\n",
       "        vertical-align: top;\n",
       "    }\n",
       "\n",
       "    .dataframe thead tr th {\n",
       "        text-align: left;\n",
       "    }\n",
       "\n",
       "    .dataframe thead tr:last-of-type th {\n",
       "        text-align: right;\n",
       "    }\n",
       "</style>\n",
       "<table border=\"1\" class=\"dataframe\">\n",
       "  <thead>\n",
       "    <tr>\n",
       "      <th>Attributes</th>\n",
       "      <th colspan=\"5\" halign=\"left\">Adj Close</th>\n",
       "      <th colspan=\"5\" halign=\"left\">Close</th>\n",
       "      <th>...</th>\n",
       "      <th colspan=\"5\" halign=\"left\">Open</th>\n",
       "      <th colspan=\"5\" halign=\"left\">Volume</th>\n",
       "    </tr>\n",
       "    <tr>\n",
       "      <th>Symbols</th>\n",
       "      <th>BTC-USD</th>\n",
       "      <th>ETH-USD</th>\n",
       "      <th>BNB-USD</th>\n",
       "      <th>XRP-USD</th>\n",
       "      <th>ADA-USD</th>\n",
       "      <th>BTC-USD</th>\n",
       "      <th>ETH-USD</th>\n",
       "      <th>BNB-USD</th>\n",
       "      <th>XRP-USD</th>\n",
       "      <th>ADA-USD</th>\n",
       "      <th>...</th>\n",
       "      <th>BTC-USD</th>\n",
       "      <th>ETH-USD</th>\n",
       "      <th>BNB-USD</th>\n",
       "      <th>XRP-USD</th>\n",
       "      <th>ADA-USD</th>\n",
       "      <th>BTC-USD</th>\n",
       "      <th>ETH-USD</th>\n",
       "      <th>BNB-USD</th>\n",
       "      <th>XRP-USD</th>\n",
       "      <th>ADA-USD</th>\n",
       "    </tr>\n",
       "    <tr>\n",
       "      <th>Date</th>\n",
       "      <th></th>\n",
       "      <th></th>\n",
       "      <th></th>\n",
       "      <th></th>\n",
       "      <th></th>\n",
       "      <th></th>\n",
       "      <th></th>\n",
       "      <th></th>\n",
       "      <th></th>\n",
       "      <th></th>\n",
       "      <th></th>\n",
       "      <th></th>\n",
       "      <th></th>\n",
       "      <th></th>\n",
       "      <th></th>\n",
       "      <th></th>\n",
       "      <th></th>\n",
       "      <th></th>\n",
       "      <th></th>\n",
       "      <th></th>\n",
       "      <th></th>\n",
       "    </tr>\n",
       "  </thead>\n",
       "  <tbody>\n",
       "    <tr>\n",
       "      <th>2021-04-06</th>\n",
       "      <td>56048.937500</td>\n",
       "      <td>1971.077271</td>\n",
       "      <td>374.658813</td>\n",
       "      <td>0.917576</td>\n",
       "      <td>1.175149</td>\n",
       "      <td>56048.937500</td>\n",
       "      <td>1971.077271</td>\n",
       "      <td>374.658813</td>\n",
       "      <td>0.917576</td>\n",
       "      <td>1.175149</td>\n",
       "      <td>...</td>\n",
       "      <td>58186.507812</td>\n",
       "      <td>2117.728516</td>\n",
       "      <td>403.699280</td>\n",
       "      <td>1.097547</td>\n",
       "      <td>1.255457</td>\n",
       "      <td>75645303584</td>\n",
       "      <td>36116271935</td>\n",
       "      <td>5976362849</td>\n",
       "      <td>21942171678</td>\n",
       "      <td>4771395490</td>\n",
       "    </tr>\n",
       "    <tr>\n",
       "      <th>2021-04-07</th>\n",
       "      <td>58323.953125</td>\n",
       "      <td>2088.573730</td>\n",
       "      <td>418.038391</td>\n",
       "      <td>1.052756</td>\n",
       "      <td>1.219436</td>\n",
       "      <td>58323.953125</td>\n",
       "      <td>2088.573730</td>\n",
       "      <td>418.038391</td>\n",
       "      <td>1.052756</td>\n",
       "      <td>1.219436</td>\n",
       "      <td>...</td>\n",
       "      <td>56099.914062</td>\n",
       "      <td>1969.133179</td>\n",
       "      <td>376.269012</td>\n",
       "      <td>0.919055</td>\n",
       "      <td>1.176132</td>\n",
       "      <td>53053855641</td>\n",
       "      <td>25312956529</td>\n",
       "      <td>4550316562</td>\n",
       "      <td>12888349509</td>\n",
       "      <td>2315835365</td>\n",
       "    </tr>\n",
       "    <tr>\n",
       "      <th>2021-04-08</th>\n",
       "      <td>58245.003906</td>\n",
       "      <td>2072.108887</td>\n",
       "      <td>453.178467</td>\n",
       "      <td>1.020837</td>\n",
       "      <td>1.203540</td>\n",
       "      <td>58245.003906</td>\n",
       "      <td>2072.108887</td>\n",
       "      <td>453.178467</td>\n",
       "      <td>1.020837</td>\n",
       "      <td>1.203540</td>\n",
       "      <td>...</td>\n",
       "      <td>58326.562500</td>\n",
       "      <td>2088.772217</td>\n",
       "      <td>418.054718</td>\n",
       "      <td>1.053417</td>\n",
       "      <td>1.219454</td>\n",
       "      <td>46655208546</td>\n",
       "      <td>19812472092</td>\n",
       "      <td>4701175013</td>\n",
       "      <td>10235269531</td>\n",
       "      <td>1678933674</td>\n",
       "    </tr>\n",
       "    <tr>\n",
       "      <th>2021-04-09</th>\n",
       "      <td>59793.234375</td>\n",
       "      <td>2135.942139</td>\n",
       "      <td>472.560333</td>\n",
       "      <td>1.374416</td>\n",
       "      <td>1.218758</td>\n",
       "      <td>59793.234375</td>\n",
       "      <td>2135.942139</td>\n",
       "      <td>472.560333</td>\n",
       "      <td>1.374416</td>\n",
       "      <td>1.218758</td>\n",
       "      <td>...</td>\n",
       "      <td>58253.777344</td>\n",
       "      <td>2071.111572</td>\n",
       "      <td>454.343170</td>\n",
       "      <td>1.020282</td>\n",
       "      <td>1.203533</td>\n",
       "      <td>58238470525</td>\n",
       "      <td>24986243611</td>\n",
       "      <td>6160670397</td>\n",
       "      <td>25547794935</td>\n",
       "      <td>2481275569</td>\n",
       "    </tr>\n",
       "    <tr>\n",
       "      <th>2021-04-11</th>\n",
       "      <td>60203.976562</td>\n",
       "      <td>2163.083984</td>\n",
       "      <td>503.218323</td>\n",
       "      <td>1.386217</td>\n",
       "      <td>1.269777</td>\n",
       "      <td>60203.976562</td>\n",
       "      <td>2163.083984</td>\n",
       "      <td>503.218323</td>\n",
       "      <td>1.386217</td>\n",
       "      <td>1.269777</td>\n",
       "      <td>...</td>\n",
       "      <td>59832.035156</td>\n",
       "      <td>2143.174072</td>\n",
       "      <td>464.840485</td>\n",
       "      <td>1.391385</td>\n",
       "      <td>1.265772</td>\n",
       "      <td>47848927232</td>\n",
       "      <td>20384362496</td>\n",
       "      <td>5043861504</td>\n",
       "      <td>23583350784</td>\n",
       "      <td>3342792960</td>\n",
       "    </tr>\n",
       "  </tbody>\n",
       "</table>\n",
       "<p>5 rows × 30 columns</p>\n",
       "</div>"
      ],
      "text/plain": [
       "Attributes     Adj Close                                               \\\n",
       "Symbols          BTC-USD      ETH-USD     BNB-USD   XRP-USD   ADA-USD   \n",
       "Date                                                                    \n",
       "2021-04-06  56048.937500  1971.077271  374.658813  0.917576  1.175149   \n",
       "2021-04-07  58323.953125  2088.573730  418.038391  1.052756  1.219436   \n",
       "2021-04-08  58245.003906  2072.108887  453.178467  1.020837  1.203540   \n",
       "2021-04-09  59793.234375  2135.942139  472.560333  1.374416  1.218758   \n",
       "2021-04-11  60203.976562  2163.083984  503.218323  1.386217  1.269777   \n",
       "\n",
       "Attributes         Close                                               ...  \\\n",
       "Symbols          BTC-USD      ETH-USD     BNB-USD   XRP-USD   ADA-USD  ...   \n",
       "Date                                                                   ...   \n",
       "2021-04-06  56048.937500  1971.077271  374.658813  0.917576  1.175149  ...   \n",
       "2021-04-07  58323.953125  2088.573730  418.038391  1.052756  1.219436  ...   \n",
       "2021-04-08  58245.003906  2072.108887  453.178467  1.020837  1.203540  ...   \n",
       "2021-04-09  59793.234375  2135.942139  472.560333  1.374416  1.218758  ...   \n",
       "2021-04-11  60203.976562  2163.083984  503.218323  1.386217  1.269777  ...   \n",
       "\n",
       "Attributes          Open                                               \\\n",
       "Symbols          BTC-USD      ETH-USD     BNB-USD   XRP-USD   ADA-USD   \n",
       "Date                                                                    \n",
       "2021-04-06  58186.507812  2117.728516  403.699280  1.097547  1.255457   \n",
       "2021-04-07  56099.914062  1969.133179  376.269012  0.919055  1.176132   \n",
       "2021-04-08  58326.562500  2088.772217  418.054718  1.053417  1.219454   \n",
       "2021-04-09  58253.777344  2071.111572  454.343170  1.020282  1.203533   \n",
       "2021-04-11  59832.035156  2143.174072  464.840485  1.391385  1.265772   \n",
       "\n",
       "Attributes       Volume                                                    \n",
       "Symbols         BTC-USD      ETH-USD     BNB-USD      XRP-USD     ADA-USD  \n",
       "Date                                                                       \n",
       "2021-04-06  75645303584  36116271935  5976362849  21942171678  4771395490  \n",
       "2021-04-07  53053855641  25312956529  4550316562  12888349509  2315835365  \n",
       "2021-04-08  46655208546  19812472092  4701175013  10235269531  1678933674  \n",
       "2021-04-09  58238470525  24986243611  6160670397  25547794935  2481275569  \n",
       "2021-04-11  47848927232  20384362496  5043861504  23583350784  3342792960  \n",
       "\n",
       "[5 rows x 30 columns]"
      ]
     },
     "execution_count": 3,
     "metadata": {},
     "output_type": "execute_result"
    }
   ],
   "source": [
    "test = web.DataReader(assets, 'yahoo', start='2020/11/10', end='2021/04/11')\n",
    "test.tail()"
   ]
  },
  {
   "cell_type": "code",
   "execution_count": 4,
   "metadata": {
    "scrolled": false
   },
   "outputs": [
    {
     "data": {
      "text/html": [
       "<div>\n",
       "<style scoped>\n",
       "    .dataframe tbody tr th:only-of-type {\n",
       "        vertical-align: middle;\n",
       "    }\n",
       "\n",
       "    .dataframe tbody tr th {\n",
       "        vertical-align: top;\n",
       "    }\n",
       "\n",
       "    .dataframe thead th {\n",
       "        text-align: right;\n",
       "    }\n",
       "</style>\n",
       "<table border=\"1\" class=\"dataframe\">\n",
       "  <thead>\n",
       "    <tr style=\"text-align: right;\">\n",
       "      <th>Symbols</th>\n",
       "      <th>BTC-USD</th>\n",
       "      <th>ETH-USD</th>\n",
       "      <th>BNB-USD</th>\n",
       "      <th>XRP-USD</th>\n",
       "      <th>ADA-USD</th>\n",
       "    </tr>\n",
       "    <tr>\n",
       "      <th>Date</th>\n",
       "      <th></th>\n",
       "      <th></th>\n",
       "      <th></th>\n",
       "      <th></th>\n",
       "      <th></th>\n",
       "    </tr>\n",
       "  </thead>\n",
       "  <tbody>\n",
       "    <tr>\n",
       "      <th>2020-11-10</th>\n",
       "      <td>15290.902344</td>\n",
       "      <td>449.679626</td>\n",
       "      <td>28.193342</td>\n",
       "      <td>0.253911</td>\n",
       "      <td>0.105805</td>\n",
       "    </tr>\n",
       "    <tr>\n",
       "      <th>2020-11-11</th>\n",
       "      <td>15701.339844</td>\n",
       "      <td>462.960541</td>\n",
       "      <td>27.956179</td>\n",
       "      <td>0.256259</td>\n",
       "      <td>0.105965</td>\n",
       "    </tr>\n",
       "    <tr>\n",
       "      <th>2020-11-12</th>\n",
       "      <td>16276.343750</td>\n",
       "      <td>461.005280</td>\n",
       "      <td>27.614807</td>\n",
       "      <td>0.254903</td>\n",
       "      <td>0.104525</td>\n",
       "    </tr>\n",
       "    <tr>\n",
       "      <th>2020-11-13</th>\n",
       "      <td>16317.808594</td>\n",
       "      <td>474.626434</td>\n",
       "      <td>28.182173</td>\n",
       "      <td>0.265191</td>\n",
       "      <td>0.106391</td>\n",
       "    </tr>\n",
       "    <tr>\n",
       "      <th>2020-11-14</th>\n",
       "      <td>16068.138672</td>\n",
       "      <td>460.149841</td>\n",
       "      <td>27.936201</td>\n",
       "      <td>0.268342</td>\n",
       "      <td>0.104202</td>\n",
       "    </tr>\n",
       "  </tbody>\n",
       "</table>\n",
       "</div>"
      ],
      "text/plain": [
       "Symbols          BTC-USD     ETH-USD    BNB-USD   XRP-USD   ADA-USD\n",
       "Date                                                               \n",
       "2020-11-10  15290.902344  449.679626  28.193342  0.253911  0.105805\n",
       "2020-11-11  15701.339844  462.960541  27.956179  0.256259  0.105965\n",
       "2020-11-12  16276.343750  461.005280  27.614807  0.254903  0.104525\n",
       "2020-11-13  16317.808594  474.626434  28.182173  0.265191  0.106391\n",
       "2020-11-14  16068.138672  460.149841  27.936201  0.268342  0.104202"
      ]
     },
     "execution_count": 4,
     "metadata": {},
     "output_type": "execute_result"
    }
   ],
   "source": [
    "df = test['Adj Close']\n",
    "df.head()"
   ]
  },
  {
   "cell_type": "code",
   "execution_count": 5,
   "metadata": {
    "scrolled": false
   },
   "outputs": [
    {
     "name": "stdout",
     "output_type": "stream",
     "text": [
      "<class 'pandas.core.frame.DataFrame'>\n",
      "DatetimeIndex: 153 entries, 2020-11-10 to 2021-04-11\n",
      "Data columns (total 5 columns):\n",
      " #   Column   Non-Null Count  Dtype  \n",
      "---  ------   --------------  -----  \n",
      " 0   BTC-USD  153 non-null    float64\n",
      " 1   ETH-USD  153 non-null    float64\n",
      " 2   BNB-USD  153 non-null    float64\n",
      " 3   XRP-USD  153 non-null    float64\n",
      " 4   ADA-USD  153 non-null    float64\n",
      "dtypes: float64(5)\n",
      "memory usage: 7.2 KB\n"
     ]
    }
   ],
   "source": [
    "df.info()"
   ]
  },
  {
   "cell_type": "markdown",
   "metadata": {},
   "source": [
    "# 2.Visualise the data"
   ]
  },
  {
   "cell_type": "code",
   "execution_count": 6,
   "metadata": {
    "scrolled": true
   },
   "outputs": [
    {
     "data": {
      "text/plain": [
       "<AxesSubplot:xlabel='Symbols', ylabel='Symbols'>"
      ]
     },
     "execution_count": 6,
     "metadata": {},
     "output_type": "execute_result"
    },
    {
     "data": {
      "image/png": "[encoded data removed]",
      "text/plain": [
       "<Figure size 432x288 with 2 Axes>"
      ]
     },
     "metadata": {
      "needs_background": "light"
     },
     "output_type": "display_data"
    }
   ],
   "source": [
    "sns.heatmap(df.corr(), annot = True, fmt= '.0%')"
   ]
  },
  {
   "cell_type": "markdown",
   "metadata": {},
   "source": [
    "Bitcoin is the largest cryptocurrency and it currently is 55% of the entire cryptocurrenty market. \n",
    "\n",
    "Generally, when BTC rises the rest of the market rises. XRP is the only outliner of the four altcoins as it possesses a negative relationship with the other assets.\n",
    "\n",
    "This is probably due to the U.S. Securities and Exchange Commission placing a lawsuit against Ripple Labs, the creator of XRP.\n",
    "The price of XRP(USD) fell from 0.28 to 0.24 within the first 20 minutes of the announcement.\n"
   ]
  },
  {
   "cell_type": "code",
   "execution_count": 7,
   "metadata": {
    "scrolled": true
   },
   "outputs": [
    {
     "data": {
      "text/html": [
       "<div>\n",
       "<style scoped>\n",
       "    .dataframe tbody tr th:only-of-type {\n",
       "        vertical-align: middle;\n",
       "    }\n",
       "\n",
       "    .dataframe tbody tr th {\n",
       "        vertical-align: top;\n",
       "    }\n",
       "\n",
       "    .dataframe thead th {\n",
       "        text-align: right;\n",
       "    }\n",
       "</style>\n",
       "<table border=\"1\" class=\"dataframe\">\n",
       "  <thead>\n",
       "    <tr style=\"text-align: right;\">\n",
       "      <th>Symbols</th>\n",
       "      <th>BTC-USD</th>\n",
       "      <th>ETH-USD</th>\n",
       "      <th>BNB-USD</th>\n",
       "      <th>XRP-USD</th>\n",
       "      <th>ADA-USD</th>\n",
       "    </tr>\n",
       "    <tr>\n",
       "      <th>Date</th>\n",
       "      <th></th>\n",
       "      <th></th>\n",
       "      <th></th>\n",
       "      <th></th>\n",
       "      <th></th>\n",
       "    </tr>\n",
       "  </thead>\n",
       "  <tbody>\n",
       "    <tr>\n",
       "      <th>2020-11-10</th>\n",
       "      <td>NaN</td>\n",
       "      <td>NaN</td>\n",
       "      <td>NaN</td>\n",
       "      <td>NaN</td>\n",
       "      <td>NaN</td>\n",
       "    </tr>\n",
       "    <tr>\n",
       "      <th>2020-11-11</th>\n",
       "      <td>0.026842</td>\n",
       "      <td>0.029534</td>\n",
       "      <td>-0.008412</td>\n",
       "      <td>0.009247</td>\n",
       "      <td>0.001512</td>\n",
       "    </tr>\n",
       "    <tr>\n",
       "      <th>2020-11-12</th>\n",
       "      <td>0.036621</td>\n",
       "      <td>-0.004223</td>\n",
       "      <td>-0.012211</td>\n",
       "      <td>-0.005292</td>\n",
       "      <td>-0.013589</td>\n",
       "    </tr>\n",
       "    <tr>\n",
       "      <th>2020-11-13</th>\n",
       "      <td>0.002548</td>\n",
       "      <td>0.029547</td>\n",
       "      <td>0.020546</td>\n",
       "      <td>0.040360</td>\n",
       "      <td>0.017852</td>\n",
       "    </tr>\n",
       "    <tr>\n",
       "      <th>2020-11-14</th>\n",
       "      <td>-0.015300</td>\n",
       "      <td>-0.030501</td>\n",
       "      <td>-0.008728</td>\n",
       "      <td>0.011882</td>\n",
       "      <td>-0.020575</td>\n",
       "    </tr>\n",
       "    <tr>\n",
       "      <th>...</th>\n",
       "      <td>...</td>\n",
       "      <td>...</td>\n",
       "      <td>...</td>\n",
       "      <td>...</td>\n",
       "      <td>...</td>\n",
       "    </tr>\n",
       "    <tr>\n",
       "      <th>2021-04-06</th>\n",
       "      <td>-0.036833</td>\n",
       "      <td>-0.069535</td>\n",
       "      <td>-0.071686</td>\n",
       "      <td>-0.162999</td>\n",
       "      <td>-0.063890</td>\n",
       "    </tr>\n",
       "    <tr>\n",
       "      <th>2021-04-07</th>\n",
       "      <td>0.040590</td>\n",
       "      <td>0.059610</td>\n",
       "      <td>0.115784</td>\n",
       "      <td>0.147323</td>\n",
       "      <td>0.037686</td>\n",
       "    </tr>\n",
       "    <tr>\n",
       "      <th>2021-04-08</th>\n",
       "      <td>-0.001354</td>\n",
       "      <td>-0.007883</td>\n",
       "      <td>0.084059</td>\n",
       "      <td>-0.030319</td>\n",
       "      <td>-0.013036</td>\n",
       "    </tr>\n",
       "    <tr>\n",
       "      <th>2021-04-09</th>\n",
       "      <td>0.026581</td>\n",
       "      <td>0.030806</td>\n",
       "      <td>0.042769</td>\n",
       "      <td>0.346362</td>\n",
       "      <td>0.012644</td>\n",
       "    </tr>\n",
       "    <tr>\n",
       "      <th>2021-04-11</th>\n",
       "      <td>0.006869</td>\n",
       "      <td>0.012707</td>\n",
       "      <td>0.064876</td>\n",
       "      <td>0.008586</td>\n",
       "      <td>0.041861</td>\n",
       "    </tr>\n",
       "  </tbody>\n",
       "</table>\n",
       "<p>153 rows × 5 columns</p>\n",
       "</div>"
      ],
      "text/plain": [
       "Symbols      BTC-USD   ETH-USD   BNB-USD   XRP-USD   ADA-USD\n",
       "Date                                                        \n",
       "2020-11-10       NaN       NaN       NaN       NaN       NaN\n",
       "2020-11-11  0.026842  0.029534 -0.008412  0.009247  0.001512\n",
       "2020-11-12  0.036621 -0.004223 -0.012211 -0.005292 -0.013589\n",
       "2020-11-13  0.002548  0.029547  0.020546  0.040360  0.017852\n",
       "2020-11-14 -0.015300 -0.030501 -0.008728  0.011882 -0.020575\n",
       "...              ...       ...       ...       ...       ...\n",
       "2021-04-06 -0.036833 -0.069535 -0.071686 -0.162999 -0.063890\n",
       "2021-04-07  0.040590  0.059610  0.115784  0.147323  0.037686\n",
       "2021-04-08 -0.001354 -0.007883  0.084059 -0.030319 -0.013036\n",
       "2021-04-09  0.026581  0.030806  0.042769  0.346362  0.012644\n",
       "2021-04-11  0.006869  0.012707  0.064876  0.008586  0.041861\n",
       "\n",
       "[153 rows x 5 columns]"
      ]
     },
     "execution_count": 7,
     "metadata": {},
     "output_type": "execute_result"
    }
   ],
   "source": [
    "returns = df.pct_change()\n",
    "returns"
   ]
  },
  {
   "cell_type": "code",
   "execution_count": 8,
   "metadata": {
    "scrolled": false
   },
   "outputs": [
    {
     "data": {
      "image/png": "[encoded data removed]",
      "text/plain": [
       "<Figure size 1296x432 with 1 Axes>"
      ]
     },
     "metadata": {
      "needs_background": "light"
     },
     "output_type": "display_data"
    }
   ],
   "source": [
    "plt.figure(figsize = (18,6))\n",
    "plt.plot(df.pct_change())\n",
    "plt.title('Portfolio Adjusted Close')\n",
    "plt.xlabel('Date', fontsize = 12)\n",
    "plt.ylabel('Adjusted Price USD($)', fontsize = 12)\n",
    "plt.legend(assets)\n",
    "plt.show()"
   ]
  },
  {
   "cell_type": "markdown",
   "metadata": {},
   "source": [
    "It's clear that over this period, BNB and XRP are the most volatile assets. \n",
    "Volatile assets are often considered riskier than less volatile assets because the price is expected to be less predictable.\n",
    "A short-term investor would interested in assets that are volatile as there is more opportunity to make profit.\n"
   ]
  },
  {
   "cell_type": "markdown",
   "metadata": {},
   "source": [
    "# 3. Calculate Returns"
   ]
  },
  {
   "cell_type": "markdown",
   "metadata": {},
   "source": [
    "Calculate the annualised covariance to find the direction of the relationship of two asset prices"
   ]
  },
  {
   "cell_type": "code",
   "execution_count": 9,
   "metadata": {
    "scrolled": false
   },
   "outputs": [
    {
     "data": {
      "text/html": [
       "<div>\n",
       "<style scoped>\n",
       "    .dataframe tbody tr th:only-of-type {\n",
       "        vertical-align: middle;\n",
       "    }\n",
       "\n",
       "    .dataframe tbody tr th {\n",
       "        vertical-align: top;\n",
       "    }\n",
       "\n",
       "    .dataframe thead th {\n",
       "        text-align: right;\n",
       "    }\n",
       "</style>\n",
       "<table border=\"1\" class=\"dataframe\">\n",
       "  <thead>\n",
       "    <tr style=\"text-align: right;\">\n",
       "      <th>Symbols</th>\n",
       "      <th>BTC-USD</th>\n",
       "      <th>ETH-USD</th>\n",
       "      <th>BNB-USD</th>\n",
       "      <th>XRP-USD</th>\n",
       "      <th>ADA-USD</th>\n",
       "    </tr>\n",
       "    <tr>\n",
       "      <th>Symbols</th>\n",
       "      <th></th>\n",
       "      <th></th>\n",
       "      <th></th>\n",
       "      <th></th>\n",
       "      <th></th>\n",
       "    </tr>\n",
       "  </thead>\n",
       "  <tbody>\n",
       "    <tr>\n",
       "      <th>BTC-USD</th>\n",
       "      <td>0.641595</td>\n",
       "      <td>0.594766</td>\n",
       "      <td>0.598319</td>\n",
       "      <td>0.462034</td>\n",
       "      <td>0.478436</td>\n",
       "    </tr>\n",
       "    <tr>\n",
       "      <th>ETH-USD</th>\n",
       "      <td>0.594766</td>\n",
       "      <td>1.090368</td>\n",
       "      <td>0.712464</td>\n",
       "      <td>0.797891</td>\n",
       "      <td>0.829268</td>\n",
       "    </tr>\n",
       "    <tr>\n",
       "      <th>BNB-USD</th>\n",
       "      <td>0.598319</td>\n",
       "      <td>0.712464</td>\n",
       "      <td>2.475925</td>\n",
       "      <td>0.940870</td>\n",
       "      <td>0.789225</td>\n",
       "    </tr>\n",
       "    <tr>\n",
       "      <th>XRP-USD</th>\n",
       "      <td>0.462034</td>\n",
       "      <td>0.797891</td>\n",
       "      <td>0.940870</td>\n",
       "      <td>4.282176</td>\n",
       "      <td>0.784244</td>\n",
       "    </tr>\n",
       "    <tr>\n",
       "      <th>ADA-USD</th>\n",
       "      <td>0.478436</td>\n",
       "      <td>0.829268</td>\n",
       "      <td>0.789225</td>\n",
       "      <td>0.784244</td>\n",
       "      <td>2.004425</td>\n",
       "    </tr>\n",
       "  </tbody>\n",
       "</table>\n",
       "</div>"
      ],
      "text/plain": [
       "Symbols   BTC-USD   ETH-USD   BNB-USD   XRP-USD   ADA-USD\n",
       "Symbols                                                  \n",
       "BTC-USD  0.641595  0.594766  0.598319  0.462034  0.478436\n",
       "ETH-USD  0.594766  1.090368  0.712464  0.797891  0.829268\n",
       "BNB-USD  0.598319  0.712464  2.475925  0.940870  0.789225\n",
       "XRP-USD  0.462034  0.797891  0.940870  4.282176  0.784244\n",
       "ADA-USD  0.478436  0.829268  0.789225  0.784244  2.004425"
      ]
     },
     "execution_count": 9,
     "metadata": {},
     "output_type": "execute_result"
    }
   ],
   "source": [
    "cov_matrix = df.pct_change().apply(lambda x: np.log(1+x)).cov()  #365 is the number of trading days over this time period\n",
    "cov_matrix_annual = cov_matrix * 365\n",
    "cov_matrix_annual"
   ]
  },
  {
   "cell_type": "markdown",
   "metadata": {},
   "source": [
    "Calculate the portfolio variance "
   ]
  },
  {
   "cell_type": "code",
   "execution_count": 10,
   "metadata": {},
   "outputs": [
    {
     "data": {
      "text/plain": [
       "0.9787809261254886"
      ]
     },
     "execution_count": 10,
     "metadata": {},
     "output_type": "execute_result"
    }
   ],
   "source": [
    "portfolio_variance = np.dot(weights.T, np.dot(cov_matrix_annual, weights))\n",
    "portfolio_variance"
   ]
  },
  {
   "cell_type": "markdown",
   "metadata": {},
   "source": [
    "Calculate the volatility of the portfolio"
   ]
  },
  {
   "cell_type": "code",
   "execution_count": 11,
   "metadata": {
    "scrolled": true
   },
   "outputs": [
    {
     "data": {
      "text/plain": [
       "0.9893335767704888"
      ]
     },
     "execution_count": 11,
     "metadata": {},
     "output_type": "execute_result"
    }
   ],
   "source": [
    "portfolio_vol = np.sqrt(portfolio_variance)\n",
    "portfolio_vol"
   ]
  },
  {
   "cell_type": "markdown",
   "metadata": {},
   "source": [
    "Calculate the annual portfolio return"
   ]
  },
  {
   "cell_type": "code",
   "execution_count": 12,
   "metadata": {},
   "outputs": [
    {
     "data": {
      "text/plain": [
       "5.919903860174944"
      ]
     },
     "execution_count": 12,
     "metadata": {},
     "output_type": "execute_result"
    }
   ],
   "source": [
    "portfolio_return = np.sum(returns.mean() * weights) * 365\n",
    "portfolio_return"
   ]
  },
  {
   "cell_type": "markdown",
   "metadata": {},
   "source": [
    "# 4. Finding"
   ]
  },
  {
   "cell_type": "code",
   "execution_count": 13,
   "metadata": {
    "scrolled": true
   },
   "outputs": [
    {
     "name": "stdout",
     "output_type": "stream",
     "text": [
      "Annual Variance: 98.0%\n",
      "Annual Volatility/Risk: 99.0%\n",
      "Expected Annual Return: 592.0%\n"
     ]
    }
   ],
   "source": [
    "percent_var = str(round(portfolio_variance, 2) * 100) + '%'\n",
    "percent_vol = str(round(portfolio_vol, 2) * 100) + '%'\n",
    "percent_return = str(round(portfolio_return, 2) * 100) + '%'\n",
    "\n",
    "print('Annual Variance: ' + percent_var)\n",
    "print('Annual Volatility/Risk: ' + percent_vol)\n",
    "print('Expected Annual Return: ' + percent_return)"
   ]
  },
  {
   "cell_type": "markdown",
   "metadata": {},
   "source": [
    "If we held this portfolio, we would have an expected return of 588%. We ought to bear in mind the volatility of the portfolio. For comparison S&P 500 Index had generated returns of 18.40% in 2020. It’s clear to see why more institutional investors are looking at cryptocurrency as an alternative investment."
   ]
  },
  {
   "cell_type": "markdown",
   "metadata": {},
   "source": [
    "# 5. Portfolio Optimisation"
   ]
  },
  {
   "cell_type": "code",
   "execution_count": 14,
   "metadata": {},
   "outputs": [],
   "source": [
    "import pypfopt\n",
    "from pypfopt import risk_models\n",
    "from pypfopt import expected_returns\n",
    "from pypfopt.efficient_frontier import EfficientFrontier"
   ]
  },
  {
   "cell_type": "markdown",
   "metadata": {},
   "source": [
    "Calculate the expected return of the asset return"
   ]
  },
  {
   "cell_type": "code",
   "execution_count": 15,
   "metadata": {},
   "outputs": [],
   "source": [
    "mu = expected_returns.mean_historical_return(df)\n",
    "S = risk_models.sample_cov(df)"
   ]
  },
  {
   "cell_type": "markdown",
   "metadata": {},
   "source": [
    "Optimiize the max sharpe ratio"
   ]
  },
  {
   "cell_type": "code",
   "execution_count": 16,
   "metadata": {
    "scrolled": true
   },
   "outputs": [
    {
     "name": "stdout",
     "output_type": "stream",
     "text": [
      "OrderedDict([('BTC-USD', 0.0), ('ETH-USD', 0.0), ('BNB-USD', 0.69425), ('XRP-USD', 0.0), ('ADA-USD', 0.30575)])\n",
      "Expected annual return: 10033.8%\n",
      "Annual volatility: 119.2%\n",
      "Sharpe Ratio: 84.13\n"
     ]
    },
    {
     "data": {
      "text/plain": [
       "(100.33788928075951, 1.192476257817037, 84.12569107615006)"
      ]
     },
     "execution_count": 16,
     "metadata": {},
     "output_type": "execute_result"
    }
   ],
   "source": [
    "ef = EfficientFrontier(mu, S)\n",
    "weights = ef.max_sharpe() #Maximising the sharpe ratio and finding out the raw weights for portfolio optimsation\n",
    "cleaned_weights = ef.clean_weights() \n",
    "\n",
    "print(cleaned_weights) \n",
    "ef.portfolio_performance(verbose = True)"
   ]
  },
  {
   "cell_type": "markdown",
   "metadata": {},
   "source": [
    "Listed above are the optimal asset distribution that would provide the greatest expected return with the lowest financial risk. \n",
    "According to the results, our optimal portfolio should consists of 70% of Binance Coin and 30% of Cardona. By holding a diversified portfolio, annualised risk increased from 99% to 119% compared to our optimal portfolio. On the other hand, at this ratio we would increase our expected annual returns from 588% to 9683%."
   ]
  },
  {
   "cell_type": "markdown",
   "metadata": {},
   "source": [
    "# 6. Alternative Investment Method"
   ]
  },
  {
   "cell_type": "markdown",
   "metadata": {},
   "source": [
    "Instead of holding the five largest cryptocurrencies my market capitalisation, what would happen if we just held one?\n",
    "If we decided to hold bitcoin over this period, would we see a significant change in volatility or return?\n",
    "\n",
    "I decided to compare the variance, risk, and return of Bitcoin to our portfolio over the same period."
   ]
  },
  {
   "cell_type": "code",
   "execution_count": 17,
   "metadata": {
    "scrolled": true
   },
   "outputs": [
    {
     "data": {
      "text/plain": [
       "Date\n",
       "2021-04-06    56048\n",
       "2021-04-07    58323\n",
       "2021-04-08    58245\n",
       "2021-04-09    59793\n",
       "2021-04-11    60203\n",
       "Name: Adj Close, dtype: int32"
      ]
     },
     "execution_count": 17,
     "metadata": {},
     "output_type": "execute_result"
    }
   ],
   "source": [
    "alt_df = web.DataReader('BTC-USD', 'yahoo', start='2020/11/10', end='2021/11/04')\n",
    "alt_df = alt_df['Adj Close'].astype(int)\n",
    "alt_df.tail(5)"
   ]
  },
  {
   "cell_type": "code",
   "execution_count": 18,
   "metadata": {
    "scrolled": true
   },
   "outputs": [
    {
     "name": "stdout",
     "output_type": "stream",
     "text": [
      "Variance: 22932629416.0%\n",
      "Volatility/Risk: 1514352.0%\n",
      "Expected Return: 151.0%\n"
     ]
    }
   ],
   "source": [
    "#Variance\n",
    "alt_var = alt_df.var()\n",
    "alt_percent_var = str(round(alt_var, 2) * 100) + '%'\n",
    "print('Variance: ' + alt_percent_var)\n",
    "\n",
    "#Volatility\n",
    "alt_vol = np.sqrt(alt_var)\n",
    "alt_percent_vol = str(round(alt_vol, 2) * 100) + '%'\n",
    "print('Volatility/Risk: ' + alt_percent_vol)\n",
    "\n",
    "#Expected Returns\n",
    "alt_returns = alt_df.pct_change()\n",
    "alt_returns = np.sum(alt_df.pct_change())\n",
    "alt_percent_return = str(round(alt_returns, 2) * 100) + '%'\n",
    "print('Expected Return: ' + alt_percent_return)\n"
   ]
  },
  {
   "cell_type": "markdown",
   "metadata": {},
   "source": [
    "The alternative portfolio has significantly higher risk at 1,514,183% compared to the optimal portfolio which has a volatility of 199.3%.  \n",
    "\n",
    "A investment manager manages money for clients and will require a portfolio with high return and low risk. With other things being equal, a rational investment manager would choose the optimal or alternative portfolio as opposed to holding Bitcoin as it has lower volatility (lower risk)."
   ]
  }
 ],
 "metadata": {
  "kernelspec": {
   "display_name": "Python 3",
   "language": "python",
   "name": "python3"
  },
  "language_info": {
   "codemirror_mode": {
    "name": "ipython",
    "version": 3
   },
   "file_extension": ".py",
   "mimetype": "text/x-python",
   "name": "python",
   "nbconvert_exporter": "python",
   "pygments_lexer": "ipython3",
   "version": "3.8.5"
  }
 },
 "nbformat": 4,
 "nbformat_minor": 5
}
